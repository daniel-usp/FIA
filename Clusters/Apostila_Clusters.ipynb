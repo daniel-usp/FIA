{
  "nbformat": 4,
  "nbformat_minor": 0,
  "metadata": {
    "colab": {
      "provenance": [],
      "authorship_tag": "ABX9TyOcVYrqOIz8YyHoskdsr5NV",
      "include_colab_link": true
    },
    "kernelspec": {
      "name": "python3",
      "display_name": "Python 3"
    },
    "language_info": {
      "name": "python"
    }
  },
  "cells": [
    {
      "cell_type": "markdown",
      "metadata": {
        "id": "view-in-github",
        "colab_type": "text"
      },
      "source": [
        "<a href=\"https://colab.research.google.com/github/daniel-usp/FIA/blob/main/Clusters/Apostila_Clusters.ipynb\" target=\"_parent\"><img src=\"https://colab.research.google.com/assets/colab-badge.svg\" alt=\"Open In Colab\"/></a>"
      ]
    },
    {
      "cell_type": "code",
      "execution_count": null,
      "metadata": {
        "id": "QpnN-Xr3BaTV"
      },
      "outputs": [],
      "source": []
    },
    {
      "cell_type": "markdown",
      "source": [
        "#Apostila sobre Clusterização"
      ],
      "metadata": {
        "id": "bNceBYmmBmGQ"
      }
    },
    {
      "cell_type": "markdown",
      "source": [
        "# 1. Introdução\n",
        "\n",
        "O K-Means é um dos algoritmos de agrupamento (clustering) mais populares e amplamente utilizados. O agrupamento é uma técnica de aprendizado não supervisionado, onde o objetivo é dividir um conjunto de dados em grupos baseados na semelhança entre eles. Ao contrário da classificação, onde as categorias são pré-definidas e conhecidas, o clustering tenta descobrir categorias ou grupos intrínsecos. O K-Means, em particular, busca particionar os dados em \\( k \\) grupos distintos, onde cada grupo é definido por sua média.\n",
        "\n",
        "A ideia básica é simples, mas poderosa: alocar pontos de dados a grupos de tal forma que a soma das distâncias quadradas entre os pontos de dados e o centróide de seu respectivo grupo seja minimizada. No entanto, por mais simples que pareça, o K-Means tem sido uma ferramenta fundamental em análise de dados, aprendizado de máquina e até mesmo em áreas aplicadas, como marketing e geografia.\n",
        "\n",
        "---\n",
        "\n",
        "# 2. Conceitos Básicos\n",
        "\n",
        "- **Clustering**: Processo de agrupar conjuntos de dados com base em medidas de semelhança. O objetivo é que os pontos dentro de um cluster sejam mais semelhantes entre si do que com pontos em outros clusters.\n",
        "  \n",
        "- **Centróide**: Representa o ponto central de um cluster no K-Means. É calculado como a média de todos os pontos dentro do cluster.\n",
        "  \n",
        "- **K**: Representa o número de clusters que o algoritmo deve identificar. A escolha de \\( k \\) é crítica e muitas vezes requer experimentação ou métodos auxiliares para determinar um valor apropriado. Um desses métodos é o \"método do cotovelo\".\n",
        "\n",
        "- **Método do Cotovelo**: Uma técnica para encontrar o número ótimo de clusters \\( k \\). Ao plotar o número de clusters contra a soma das distâncias quadradas dentro dos clusters, observa-se um ponto onde o aumento de clusters não resulta em uma variação significativa dessa soma. Esse ponto se assemelha a um \"cotovelo\" no gráfico, daí o nome do método.\n",
        "\n",
        "O K-Means é iterativo por natureza. Começa com uma suposição inicial dos centróides e, em seguida, refina essa suposição com base na alocação dos pontos de dados aos clusters.\n",
        "\n",
        "---\n",
        "\n",
        "# 3. Importância do K-Means\n",
        "\n",
        "O K-Means é uma ferramenta poderosa por várias razões:\n",
        "\n",
        "- **Simplicidade**: O K-Means é intuitivo e fácil de implementar.\n",
        "- **Eficiência**: Funciona bem com grandes conjuntos de dados.\n",
        "- **Aplicabilidade**: Pode ser usado em diversas áreas, desde marketing (segmentação de clientes) até ciências (análise genética).\n",
        "\n",
        "No entanto, é importante escolher um valor apropriado para \\( k \\) e estar ciente de que o K-Means pode ser sensível à inicialização dos centróides.\n"
      ],
      "metadata": {
        "id": "SrZVzN1IBbRy"
      }
    },
    {
      "cell_type": "code",
      "source": [
        "import pandas as pd\n",
        "data = np.array([\n",
        "    [1, 2],\n",
        "    [5, 8],\n",
        "    [1.5, 1.8],\n",
        "    [8, 8],\n",
        "    [1, 0.6],\n",
        "    [9, 11]\n",
        "])\n",
        "pd.DataFrame(data, columns = ['Espessura','Largura'])"
      ],
      "metadata": {
        "colab": {
          "base_uri": "https://localhost:8080/",
          "height": 238
        },
        "id": "qa-ykD4XCCfa",
        "outputId": "b2c8d524-5e04-486a-b371-41a249f1c819"
      },
      "execution_count": null,
      "outputs": [
        {
          "output_type": "execute_result",
          "data": {
            "text/plain": [
              "   Espessura  Largura\n",
              "0        1.0      2.0\n",
              "1        5.0      8.0\n",
              "2        1.5      1.8\n",
              "3        8.0      8.0\n",
              "4        1.0      0.6\n",
              "5        9.0     11.0"
            ],
            "text/html": [
              "\n",
              "\n",
              "  <div id=\"df-721b5f8d-a95e-4700-8390-7d4de11be31b\">\n",
              "    <div class=\"colab-df-container\">\n",
              "      <div>\n",
              "<style scoped>\n",
              "    .dataframe tbody tr th:only-of-type {\n",
              "        vertical-align: middle;\n",
              "    }\n",
              "\n",
              "    .dataframe tbody tr th {\n",
              "        vertical-align: top;\n",
              "    }\n",
              "\n",
              "    .dataframe thead th {\n",
              "        text-align: right;\n",
              "    }\n",
              "</style>\n",
              "<table border=\"1\" class=\"dataframe\">\n",
              "  <thead>\n",
              "    <tr style=\"text-align: right;\">\n",
              "      <th></th>\n",
              "      <th>Espessura</th>\n",
              "      <th>Largura</th>\n",
              "    </tr>\n",
              "  </thead>\n",
              "  <tbody>\n",
              "    <tr>\n",
              "      <th>0</th>\n",
              "      <td>1.0</td>\n",
              "      <td>2.0</td>\n",
              "    </tr>\n",
              "    <tr>\n",
              "      <th>1</th>\n",
              "      <td>5.0</td>\n",
              "      <td>8.0</td>\n",
              "    </tr>\n",
              "    <tr>\n",
              "      <th>2</th>\n",
              "      <td>1.5</td>\n",
              "      <td>1.8</td>\n",
              "    </tr>\n",
              "    <tr>\n",
              "      <th>3</th>\n",
              "      <td>8.0</td>\n",
              "      <td>8.0</td>\n",
              "    </tr>\n",
              "    <tr>\n",
              "      <th>4</th>\n",
              "      <td>1.0</td>\n",
              "      <td>0.6</td>\n",
              "    </tr>\n",
              "    <tr>\n",
              "      <th>5</th>\n",
              "      <td>9.0</td>\n",
              "      <td>11.0</td>\n",
              "    </tr>\n",
              "  </tbody>\n",
              "</table>\n",
              "</div>\n",
              "      <button class=\"colab-df-convert\" onclick=\"convertToInteractive('df-721b5f8d-a95e-4700-8390-7d4de11be31b')\"\n",
              "              title=\"Convert this dataframe to an interactive table.\"\n",
              "              style=\"display:none;\">\n",
              "\n",
              "  <svg xmlns=\"http://www.w3.org/2000/svg\" height=\"24px\"viewBox=\"0 0 24 24\"\n",
              "       width=\"24px\">\n",
              "    <path d=\"M0 0h24v24H0V0z\" fill=\"none\"/>\n",
              "    <path d=\"M18.56 5.44l.94 2.06.94-2.06 2.06-.94-2.06-.94-.94-2.06-.94 2.06-2.06.94zm-11 1L8.5 8.5l.94-2.06 2.06-.94-2.06-.94L8.5 2.5l-.94 2.06-2.06.94zm10 10l.94 2.06.94-2.06 2.06-.94-2.06-.94-.94-2.06-.94 2.06-2.06.94z\"/><path d=\"M17.41 7.96l-1.37-1.37c-.4-.4-.92-.59-1.43-.59-.52 0-1.04.2-1.43.59L10.3 9.45l-7.72 7.72c-.78.78-.78 2.05 0 2.83L4 21.41c.39.39.9.59 1.41.59.51 0 1.02-.2 1.41-.59l7.78-7.78 2.81-2.81c.8-.78.8-2.07 0-2.86zM5.41 20L4 18.59l7.72-7.72 1.47 1.35L5.41 20z\"/>\n",
              "  </svg>\n",
              "      </button>\n",
              "\n",
              "\n",
              "\n",
              "    <div id=\"df-1dd3c53d-ea6d-400e-b743-5517fef08649\">\n",
              "      <button class=\"colab-df-quickchart\" onclick=\"quickchart('df-1dd3c53d-ea6d-400e-b743-5517fef08649')\"\n",
              "              title=\"Suggest charts.\"\n",
              "              style=\"display:none;\">\n",
              "\n",
              "<svg xmlns=\"http://www.w3.org/2000/svg\" height=\"24px\"viewBox=\"0 0 24 24\"\n",
              "     width=\"24px\">\n",
              "    <g>\n",
              "        <path d=\"M19 3H5c-1.1 0-2 .9-2 2v14c0 1.1.9 2 2 2h14c1.1 0 2-.9 2-2V5c0-1.1-.9-2-2-2zM9 17H7v-7h2v7zm4 0h-2V7h2v10zm4 0h-2v-4h2v4z\"/>\n",
              "    </g>\n",
              "</svg>\n",
              "      </button>\n",
              "    </div>\n",
              "\n",
              "<style>\n",
              "  .colab-df-quickchart {\n",
              "    background-color: #E8F0FE;\n",
              "    border: none;\n",
              "    border-radius: 50%;\n",
              "    cursor: pointer;\n",
              "    display: none;\n",
              "    fill: #1967D2;\n",
              "    height: 32px;\n",
              "    padding: 0 0 0 0;\n",
              "    width: 32px;\n",
              "  }\n",
              "\n",
              "  .colab-df-quickchart:hover {\n",
              "    background-color: #E2EBFA;\n",
              "    box-shadow: 0px 1px 2px rgba(60, 64, 67, 0.3), 0px 1px 3px 1px rgba(60, 64, 67, 0.15);\n",
              "    fill: #174EA6;\n",
              "  }\n",
              "\n",
              "  [theme=dark] .colab-df-quickchart {\n",
              "    background-color: #3B4455;\n",
              "    fill: #D2E3FC;\n",
              "  }\n",
              "\n",
              "  [theme=dark] .colab-df-quickchart:hover {\n",
              "    background-color: #434B5C;\n",
              "    box-shadow: 0px 1px 3px 1px rgba(0, 0, 0, 0.15);\n",
              "    filter: drop-shadow(0px 1px 2px rgba(0, 0, 0, 0.3));\n",
              "    fill: #FFFFFF;\n",
              "  }\n",
              "</style>\n",
              "\n",
              "    <script>\n",
              "      async function quickchart(key) {\n",
              "        const containerElement = document.querySelector('#' + key);\n",
              "        const charts = await google.colab.kernel.invokeFunction(\n",
              "            'suggestCharts', [key], {});\n",
              "      }\n",
              "    </script>\n",
              "\n",
              "      <script>\n",
              "\n",
              "function displayQuickchartButton(domScope) {\n",
              "  let quickchartButtonEl =\n",
              "    domScope.querySelector('#df-1dd3c53d-ea6d-400e-b743-5517fef08649 button.colab-df-quickchart');\n",
              "  quickchartButtonEl.style.display =\n",
              "    google.colab.kernel.accessAllowed ? 'block' : 'none';\n",
              "}\n",
              "\n",
              "        displayQuickchartButton(document);\n",
              "      </script>\n",
              "      <style>\n",
              "    .colab-df-container {\n",
              "      display:flex;\n",
              "      flex-wrap:wrap;\n",
              "      gap: 12px;\n",
              "    }\n",
              "\n",
              "    .colab-df-convert {\n",
              "      background-color: #E8F0FE;\n",
              "      border: none;\n",
              "      border-radius: 50%;\n",
              "      cursor: pointer;\n",
              "      display: none;\n",
              "      fill: #1967D2;\n",
              "      height: 32px;\n",
              "      padding: 0 0 0 0;\n",
              "      width: 32px;\n",
              "    }\n",
              "\n",
              "    .colab-df-convert:hover {\n",
              "      background-color: #E2EBFA;\n",
              "      box-shadow: 0px 1px 2px rgba(60, 64, 67, 0.3), 0px 1px 3px 1px rgba(60, 64, 67, 0.15);\n",
              "      fill: #174EA6;\n",
              "    }\n",
              "\n",
              "    [theme=dark] .colab-df-convert {\n",
              "      background-color: #3B4455;\n",
              "      fill: #D2E3FC;\n",
              "    }\n",
              "\n",
              "    [theme=dark] .colab-df-convert:hover {\n",
              "      background-color: #434B5C;\n",
              "      box-shadow: 0px 1px 3px 1px rgba(0, 0, 0, 0.15);\n",
              "      filter: drop-shadow(0px 1px 2px rgba(0, 0, 0, 0.3));\n",
              "      fill: #FFFFFF;\n",
              "    }\n",
              "  </style>\n",
              "\n",
              "      <script>\n",
              "        const buttonEl =\n",
              "          document.querySelector('#df-721b5f8d-a95e-4700-8390-7d4de11be31b button.colab-df-convert');\n",
              "        buttonEl.style.display =\n",
              "          google.colab.kernel.accessAllowed ? 'block' : 'none';\n",
              "\n",
              "        async function convertToInteractive(key) {\n",
              "          const element = document.querySelector('#df-721b5f8d-a95e-4700-8390-7d4de11be31b');\n",
              "          const dataTable =\n",
              "            await google.colab.kernel.invokeFunction('convertToInteractive',\n",
              "                                                     [key], {});\n",
              "          if (!dataTable) return;\n",
              "\n",
              "          const docLinkHtml = 'Like what you see? Visit the ' +\n",
              "            '<a target=\"_blank\" href=https://colab.research.google.com/notebooks/data_table.ipynb>data table notebook</a>'\n",
              "            + ' to learn more about interactive tables.';\n",
              "          element.innerHTML = '';\n",
              "          dataTable['output_type'] = 'display_data';\n",
              "          await google.colab.output.renderOutput(dataTable, element);\n",
              "          const docLink = document.createElement('div');\n",
              "          docLink.innerHTML = docLinkHtml;\n",
              "          element.appendChild(docLink);\n",
              "        }\n",
              "      </script>\n",
              "    </div>\n",
              "  </div>\n"
            ]
          },
          "metadata": {},
          "execution_count": 5
        }
      ]
    },
    {
      "cell_type": "code",
      "source": [
        "from sklearn.cluster import KMeans\n",
        "import numpy as np\n",
        "import matplotlib.pyplot as plt\n",
        "\n",
        "# Dados simulados\n",
        "data = np.array([\n",
        "    [1, 2],\n",
        "    [5, 8],\n",
        "    [1.5, 1.8],\n",
        "    [8, 8],\n",
        "    [1, 0.6],\n",
        "    [9, 11]\n",
        "])\n",
        "\n",
        "# Calculando a soma das distâncias quadradas para diferentes valores de k\n",
        "wcss = []\n",
        "for i in range(1, 6):\n",
        "    kmeans = KMeans(n_clusters=i, init='k-means++', random_state=42)\n",
        "    kmeans.fit(data)\n",
        "    wcss.append(kmeans.inertia_)\n",
        "\n",
        "# Plot do método do cotovelo\n",
        "plt.figure(figsize=(10,5))\n",
        "plt.plot(range(1, 6), wcss, marker='o', linestyle='--')\n",
        "plt.title('Método do Cotovelo')\n",
        "plt.xlabel('Número de Clusters')\n",
        "plt.ylabel('WCSS')\n",
        "plt.show()\n"
      ],
      "metadata": {
        "colab": {
          "base_uri": "https://localhost:8080/",
          "height": 686
        },
        "id": "Qfw85UQqBiaF",
        "outputId": "c70badad-168e-4607-98a8-5a26f4aab881"
      },
      "execution_count": null,
      "outputs": [
        {
          "output_type": "stream",
          "name": "stderr",
          "text": [
            "/usr/local/lib/python3.10/dist-packages/sklearn/cluster/_kmeans.py:870: FutureWarning: The default value of `n_init` will change from 10 to 'auto' in 1.4. Set the value of `n_init` explicitly to suppress the warning\n",
            "  warnings.warn(\n",
            "/usr/local/lib/python3.10/dist-packages/sklearn/cluster/_kmeans.py:870: FutureWarning: The default value of `n_init` will change from 10 to 'auto' in 1.4. Set the value of `n_init` explicitly to suppress the warning\n",
            "  warnings.warn(\n",
            "/usr/local/lib/python3.10/dist-packages/sklearn/cluster/_kmeans.py:870: FutureWarning: The default value of `n_init` will change from 10 to 'auto' in 1.4. Set the value of `n_init` explicitly to suppress the warning\n",
            "  warnings.warn(\n",
            "/usr/local/lib/python3.10/dist-packages/sklearn/cluster/_kmeans.py:870: FutureWarning: The default value of `n_init` will change from 10 to 'auto' in 1.4. Set the value of `n_init` explicitly to suppress the warning\n",
            "  warnings.warn(\n",
            "/usr/local/lib/python3.10/dist-packages/sklearn/cluster/_kmeans.py:870: FutureWarning: The default value of `n_init` will change from 10 to 'auto' in 1.4. Set the value of `n_init` explicitly to suppress the warning\n",
            "  warnings.warn(\n"
          ]
        },
        {
          "output_type": "display_data",
          "data": {
            "text/plain": [
              "<Figure size 1000x500 with 1 Axes>"
            ],
            "image/png": "[encoded data removed]"
          },
          "metadata": {}
        }
      ]
    },
    {
      "cell_type": "code",
      "source": [
        "from sklearn.cluster import KMeans\n",
        "import numpy as np\n",
        "import matplotlib.pyplot as plt\n",
        "\n",
        "# Dados simulados\n",
        "data = np.array([\n",
        "    [1, 2],\n",
        "    [5, 8],\n",
        "    [1.5, 1.8],\n",
        "    [8, 8],\n",
        "    [1, 0.6],\n",
        "    [9, 11]\n",
        "])\n",
        "\n",
        "# Modelo K-Means\n",
        "kmeans = KMeans(n_clusters=2)\n",
        "kmeans.fit(data)\n",
        "\n",
        "centroids = kmeans.cluster_centers_\n",
        "labels = kmeans.labels_\n",
        "\n",
        "# Plot\n",
        "colors = [\"g.\", \"r.\"]\n",
        "\n",
        "for i in range(len(data)):\n",
        "    plt.plot(data[i][0], data[i][1], colors[labels[i]], markersize=10)\n",
        "plt.scatter(centroids[:, 0], centroids[:, 1], marker='x', s=150)\n",
        "plt.show()\n"
      ],
      "metadata": {
        "colab": {
          "base_uri": "https://localhost:8080/",
          "height": 486
        },
        "id": "I8ZVnw8DB5F2",
        "outputId": "8fc4ec63-58ae-46e2-d8c1-b5fde2022ae7"
      },
      "execution_count": null,
      "outputs": [
        {
          "output_type": "stream",
          "name": "stderr",
          "text": [
            "/usr/local/lib/python3.10/dist-packages/sklearn/cluster/_kmeans.py:870: FutureWarning: The default value of `n_init` will change from 10 to 'auto' in 1.4. Set the value of `n_init` explicitly to suppress the warning\n",
            "  warnings.warn(\n"
          ]
        },
        {
          "output_type": "display_data",
          "data": {
            "text/plain": [
              "<Figure size 640x480 with 1 Axes>"
            ],
            "image/png": "[encoded data removed]"
          },
          "metadata": {}
        }
      ]
    }
  ]
}